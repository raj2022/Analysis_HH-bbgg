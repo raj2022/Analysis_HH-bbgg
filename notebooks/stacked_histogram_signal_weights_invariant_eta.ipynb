{
 "cells": [
  {
   "cell_type": "code",
   "execution_count": 1,
   "id": "74e237e1",
   "metadata": {},
   "outputs": [
    {
     "name": "stdout",
     "output_type": "stream",
     "text": [
      "Welcome to JupyROOT 6.30/02\n"
     ]
    }
   ],
   "source": [
    "import ROOT\n"
   ]
  },
  {
   "cell_type": "code",
   "execution_count": 3,
   "id": "b86912dd",
   "metadata": {},
   "outputs": [],
   "source": [
    "import ROOT\n",
    "\n",
    "def create_lorentz_vector(pt, eta, phi, energy):\n",
    "    lv = ROOT.TLorentzVector()\n",
    "    lv.SetPtEtaPhiE(pt, eta, phi, energy)\n",
    "    return lv\n",
    "\n",
    "def process_file(file_path, tree_name):\n",
    "    file = ROOT.TFile(file_path, \"READ\")\n",
    "    tree = file.Get(tree_name)\n",
    "\n",
    "    invariant_etas = []\n",
    "\n",
    "    if not tree:\n",
    "        print(f\"Tree not found in file: {file_path}\")\n",
    "    else:\n",
    "        for event in tree:\n",
    "            lead_pt = event.lead_pt\n",
    "            lead_eta = event.lead_eta\n",
    "            lead_phi = event.lead_phi\n",
    "            lead_energyRaw = event.lead_energyRaw\n",
    "\n",
    "            sublead_pt = event.sublead_pt\n",
    "            sublead_eta = event.sublead_eta\n",
    "            sublead_phi = event.sublead_phi\n",
    "            sublead_energyRaw = event.sublead_energyRaw\n",
    "            \n",
    "             # Default genweight to 1.0 if not available\n",
    "            genweight = getattr(event, \"genweight\", 1.0)\n",
    "\n",
    "            # Calculate the invariant eta\n",
    "            lv1 = create_lorentz_vector(lead_pt, lead_eta, lead_phi, lead_energyRaw)\n",
    "            lv2 = create_lorentz_vector(sublead_pt, sublead_eta, sublead_phi, sublead_energyRaw)\n",
    "            invariant_eta = (lv1 + lv2).Eta()\n",
    "\n",
    "            invariant_etas.append(invariant_eta, genweight)\n",
    "\n",
    "    file.Close()\n",
    "    return invariant_etas\n"
   ]
  },
  {
   "cell_type": "code",
   "execution_count": 4,
   "id": "04c7ebf5",
   "metadata": {},
   "outputs": [],
   "source": [
    "def process_signal_file(file_path, tree_name, blind_mass_range=False, blind_mass_min=0, blind_mass_max=0):\n",
    "    file_1 = ROOT.TFile(file_path, \"READ\")\n",
    "    tree = file_1.Get(tree_name)\n",
    "\n",
    "    signal_masses = []\n",
    "\n",
    "    if not tree:\n",
    "        print(f\"Tree not found in file: {file_path}\")\n",
    "    else:\n",
    "        for event in tree:\n",
    "            pt = event.HHbbggCandidate_pt\n",
    "            eta = event.HHbbggCandidate_eta\n",
    "            phi = event.HHbbggCandidate_phi\n",
    "            mass = event.HHbbggCandidate_mass\n",
    "            genweight = getattr(event, \"genweight\", 1.0)\n",
    "\n",
    "            if blind_mass_range and blind_mass_min <= mass <= blind_mass_max:\n",
    "                continue\n",
    "\n",
    "            lv_signal = create_lorentz_vector(pt, eta, phi, energy)\n",
    "            signal_masses.append((lv_signal.Eta(), genweight))\n",
    "\n",
    "    file_1.Close()\n",
    "    return signal_masses\n"
   ]
  },
  {
   "cell_type": "code",
   "execution_count": 5,
   "id": "f832a440",
   "metadata": {},
   "outputs": [],
   "source": [
    "data_file_paths = [\"../../output_root/Data_EraE.root\", \"../../output_root/Data_EraF.root\", \"../../output_root/Data_EraG.root\"]\n",
    "\n",
    "background_files = [\n",
    "    (\"../../output_root/GGJets.root\", \"GGJets\"),\n",
    "    (\"../../output_root/GJetPt20To40.root\", \"GJetPt20To40\"),\n",
    "    (\"../../output_root/GJetPt40.root\", \"GJetPt40\"),\n",
    "    (\"../../output_root/GluGluHToGG.root\", \"GluGluHToGG\"),\n",
    "    (\"../../output_root/ttHToGG.root\", \"ttHToGG\"),\n",
    "    (\"../../output_root/VBFHToGG.root\", \"VBFHToGG\"),\n",
    "    (\"../../output_root/VHToGG.root\", \"VHToGG\")\n",
    "]\n",
    "\n",
    "signal_file = \"../../output_root/GluGluToHH.root\"\n",
    "\n",
    "cross_sections = {\n",
    "    \"GGJets\": 108.3,\n",
    "    \"GJetPt20To40\": 242.5,\n",
    "    \"GJetPt40\": 919.1,\n",
    "    \"GluGluHToGG\": 39.91,\n",
    "    \"ttHToGG\": 0.5687,\n",
    "    \"VBFHToGG\": 4.359,\n",
    "    \"VHToGG\": 2.943,\n",
    "    \"GluGluToHH\": 0.0879\n",
    "}\n",
    "\n",
    "tree_name = \"DiphotonTree/data_125_13TeV_NOTAG\"\n",
    "\n",
    "integrated_luminosities = {\n",
    "    \"Data_EraE\": 5.8070,\n",
    "    \"Data_EraF\": 17.7819,\n",
    "    \"Data_EraG\": 3.0828\n",
    "}"
   ]
  },
  {
   "cell_type": "code",
   "execution_count": null,
   "id": "ffb88d85",
   "metadata": {},
   "outputs": [],
   "source": [
    "blind_mass = True  # Set this to True to enable blinding\n",
    "\n",
    "data_invariant_masses = []\n",
    "signal_masses = []\n",
    "\n",
    "for data_file_path in data_file_paths:\n",
    "    data_sample_name = data_file_path.split(\"/\")[-1].split(\".\")[0]\n",
    "    luminosity = integrated_luminosities.get(data_sample_name, 1.0)\n",
    "    data_invariant_masses.extend(process_file(data_file_path, tree_name, blind_mass))\n",
    "\n",
    "    file = ROOT.TFile(data_file_path, \"READ\")\n",
    "    tree = file.Get(tree_name)\n",
    "    if tree:\n",
    "        for event in tree:\n",
    "            pt = event.HHbbggCandidate_pt\n",
    "            eta = event.HHbbggCandidate_eta\n",
    "            phi = event.HHbbggCandidate_phi\n",
    "            mass = event.HHbbggCandidate_mass\n",
    "            genweight = getattr(event, \"genweight\", 1.0)  # Default genweight to 1.0 if not available\n",
    "\n",
    "            # Apply blinding\n",
    "            if blind_mass and 110 <= mass <= 140:\n",
    "                continue\n",
    "\n",
    "            lv_signal = create_lorentz_vector(pt, eta, phi, mass)\n",
    "            signal_masses.append((lv_signal.M(), genweight))\n",
    "    file.Close()\n"
   ]
  },
  {
   "cell_type": "code",
   "execution_count": null,
   "id": "0e120c8a",
   "metadata": {},
   "outputs": [],
   "source": []
  }
 ],
 "metadata": {
  "kernelspec": {
   "display_name": "Python 3 (ipykernel)",
   "language": "python",
   "name": "python3"
  },
  "language_info": {
   "codemirror_mode": {
    "name": "ipython",
    "version": 3
   },
   "file_extension": ".py",
   "mimetype": "text/x-python",
   "name": "python",
   "nbconvert_exporter": "python",
   "pygments_lexer": "ipython3",
   "version": "3.9.12"
  }
 },
 "nbformat": 4,
 "nbformat_minor": 5
}
